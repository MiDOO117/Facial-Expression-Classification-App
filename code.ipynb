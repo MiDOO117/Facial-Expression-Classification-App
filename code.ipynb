{
 "cells": [
  {
   "cell_type": "code",
   "execution_count": 1,
   "id": "c4348730",
   "metadata": {
    "_cell_guid": "b1076dfc-b9ad-4769-8c92-a6c4dae69d19",
    "_uuid": "8f2839f25d086af736a60e9eeb907d3b93b6e0e5",
    "execution": {
     "iopub.execute_input": "2025-01-21T01:16:48.713440Z",
     "iopub.status.busy": "2025-01-21T01:16:48.713143Z",
     "iopub.status.idle": "2025-01-21T01:17:09.597247Z",
     "shell.execute_reply": "2025-01-21T01:17:09.596591Z"
    },
    "papermill": {
     "duration": 20.890051,
     "end_time": "2025-01-21T01:17:09.598948",
     "exception": false,
     "start_time": "2025-01-21T01:16:48.708897",
     "status": "completed"
    },
    "tags": []
   },
   "outputs": [],
   "source": [
    "import numpy as np\n",
    "import pandas as pd\n",
    "import matplotlib.pyplot as plt\n",
    "import seaborn as sns\n",
    "import tensorflow as tf\n",
    "from tensorflow.keras.preprocessing.image import ImageDataGenerator\n",
    "from tensorflow.keras.models import Sequential\n",
    "from tensorflow.keras.layers import Conv2D, MaxPooling2D, Flatten, Dense, Dropout, BatchNormalization\n",
    "from tensorflow.keras.optimizers import Adam\n",
    "from tensorflow.keras.callbacks import ReduceLROnPlateau, EarlyStopping\n",
    "from tensorflow.keras.preprocessing import image\n",
    "import os"
   ]
  },
  {
   "cell_type": "code",
   "execution_count": 2,
   "id": "b9abbb91",
   "metadata": {
    "execution": {
     "iopub.execute_input": "2025-01-21T01:17:09.606289Z",
     "iopub.status.busy": "2025-01-21T01:17:09.605809Z",
     "iopub.status.idle": "2025-01-21T01:17:09.609064Z",
     "shell.execute_reply": "2025-01-21T01:17:09.608442Z"
    },
    "papermill": {
     "duration": 0.008019,
     "end_time": "2025-01-21T01:17:09.610298",
     "exception": false,
     "start_time": "2025-01-21T01:17:09.602279",
     "status": "completed"
    },
    "tags": []
   },
   "outputs": [],
   "source": [
    "# Dataset paths\n",
    "train_dir = \"/kaggle/input/fer2013/train\"\n",
    "test_dir = \"/kaggle/input/fer2013/test\""
   ]
  },
  {
   "cell_type": "code",
   "execution_count": 3,
   "id": "ad709b3d",
   "metadata": {
    "execution": {
     "iopub.execute_input": "2025-01-21T01:17:09.617101Z",
     "iopub.status.busy": "2025-01-21T01:17:09.616902Z",
     "iopub.status.idle": "2025-01-21T01:17:09.619833Z",
     "shell.execute_reply": "2025-01-21T01:17:09.619210Z"
    },
    "papermill": {
     "duration": 0.007493,
     "end_time": "2025-01-21T01:17:09.620987",
     "exception": false,
     "start_time": "2025-01-21T01:17:09.613494",
     "status": "completed"
    },
    "tags": []
   },
   "outputs": [],
   "source": [
    "# Image properties\n",
    "img_size = 48\n",
    "batch_size = 64"
   ]
  },
  {
   "cell_type": "code",
   "execution_count": 4,
   "id": "538e58fe",
   "metadata": {
    "execution": {
     "iopub.execute_input": "2025-01-21T01:17:09.626917Z",
     "iopub.status.busy": "2025-01-21T01:17:09.626728Z",
     "iopub.status.idle": "2025-01-21T01:17:09.630053Z",
     "shell.execute_reply": "2025-01-21T01:17:09.629443Z"
    },
    "papermill": {
     "duration": 0.007501,
     "end_time": "2025-01-21T01:17:09.631183",
     "exception": false,
     "start_time": "2025-01-21T01:17:09.623682",
     "status": "completed"
    },
    "tags": []
   },
   "outputs": [],
   "source": [
    "# Data augmentation\n",
    "train_datagen = ImageDataGenerator(\n",
    "    width_shift_range=0.1,\n",
    "    height_shift_range=0.1,\n",
    "    horizontal_flip=True,\n",
    "    rescale=1./255,\n",
    "    zoom_range=0.2,\n",
    "    rotation_range=10,\n",
    "    validation_split=0.2\n",
    ")\n",
    "test_datagen = ImageDataGenerator(rescale=1./255)"
   ]
  },
  {
   "cell_type": "code",
   "execution_count": 5,
   "id": "88ae0378",
   "metadata": {
    "execution": {
     "iopub.execute_input": "2025-01-21T01:17:09.637106Z",
     "iopub.status.busy": "2025-01-21T01:17:09.636915Z",
     "iopub.status.idle": "2025-01-21T01:17:56.251939Z",
     "shell.execute_reply": "2025-01-21T01:17:56.251090Z"
    },
    "papermill": {
     "duration": 46.619451,
     "end_time": "2025-01-21T01:17:56.253305",
     "exception": false,
     "start_time": "2025-01-21T01:17:09.633854",
     "status": "completed"
    },
    "tags": []
   },
   "outputs": [
    {
     "name": "stdout",
     "output_type": "stream",
     "text": [
      "Found 22968 images belonging to 7 classes.\n",
      "Found 5741 images belonging to 7 classes.\n",
      "Found 7178 images belonging to 7 classes.\n"
     ]
    }
   ],
   "source": [
    "# Load data\n",
    "train_generator = train_datagen.flow_from_directory(\n",
    "    directory=train_dir,\n",
    "    target_size=(img_size, img_size),\n",
    "    batch_size=batch_size,\n",
    "    color_mode=\"grayscale\",\n",
    "    class_mode=\"categorical\",\n",
    "    subset=\"training\"\n",
    ")\n",
    "\n",
    "validation_generator = train_datagen.flow_from_directory(\n",
    "    directory=train_dir,\n",
    "    target_size=(img_size, img_size),\n",
    "    batch_size=batch_size,\n",
    "    color_mode=\"grayscale\",\n",
    "    class_mode=\"categorical\",\n",
    "    subset=\"validation\"\n",
    ")\n",
    "\n",
    "test_generator = test_datagen.flow_from_directory(\n",
    "    directory=test_dir,\n",
    "    target_size=(img_size, img_size),\n",
    "    batch_size=batch_size,\n",
    "    color_mode=\"grayscale\",\n",
    "    class_mode=\"categorical\"\n",
    ")"
   ]
  },
  {
   "cell_type": "code",
   "execution_count": 6,
   "id": "60bd84a5",
   "metadata": {
    "execution": {
     "iopub.execute_input": "2025-01-21T01:17:56.260650Z",
     "iopub.status.busy": "2025-01-21T01:17:56.260377Z",
     "iopub.status.idle": "2025-01-21T01:17:59.861118Z",
     "shell.execute_reply": "2025-01-21T01:17:59.860453Z"
    },
    "papermill": {
     "duration": 3.606143,
     "end_time": "2025-01-21T01:17:59.862649",
     "exception": false,
     "start_time": "2025-01-21T01:17:56.256506",
     "status": "completed"
    },
    "tags": []
   },
   "outputs": [
    {
     "name": "stderr",
     "output_type": "stream",
     "text": [
      "/usr/local/lib/python3.10/dist-packages/keras/src/layers/convolutional/base_conv.py:107: UserWarning: Do not pass an `input_shape`/`input_dim` argument to a layer. When using Sequential models, prefer using an `Input(shape)` object as the first layer in the model instead.\n",
      "  super().__init__(activity_regularizer=activity_regularizer, **kwargs)\n"
     ]
    }
   ],
   "source": [
    "# Model architecture\n",
    "model = Sequential([\n",
    "    Conv2D(32, (3,3), activation='relu', input_shape=(48,48,1)),\n",
    "    Conv2D(64, (3,3), padding='same', activation='relu'),\n",
    "    BatchNormalization(),\n",
    "    MaxPooling2D(2,2),\n",
    "    Dropout(0.25),\n",
    "\n",
    "    Conv2D(128, (5,5), padding='same', activation='relu'),\n",
    "    BatchNormalization(),\n",
    "    MaxPooling2D(2,2),\n",
    "    Dropout(0.25),\n",
    "\n",
    "    Conv2D(512, (3,3), padding='same', activation='relu', kernel_regularizer=tf.keras.regularizers.l2(0.01)),\n",
    "    BatchNormalization(),\n",
    "    MaxPooling2D(2,2),\n",
    "    Dropout(0.3),\n",
    "\n",
    "    Conv2D(512, (3,3), padding='same', activation='relu', kernel_regularizer=tf.keras.regularizers.l2(0.01)),\n",
    "    BatchNormalization(),\n",
    "    MaxPooling2D(2,2),\n",
    "    Dropout(0.3),\n",
    "\n",
    "    Conv2D(512, (3,3), padding='same', activation='relu', kernel_regularizer=tf.keras.regularizers.l2(0.01)),\n",
    "    BatchNormalization(),\n",
    "    MaxPooling2D(2,2),\n",
    "    Dropout(0.3),\n",
    "\n",
    "    Flatten(),\n",
    "    Dense(256, activation='relu'),\n",
    "    BatchNormalization(),\n",
    "    Dropout(0.3),\n",
    "\n",
    "    Dense(512, activation='relu'),\n",
    "    BatchNormalization(),\n",
    "    Dropout(0.3),\n",
    "\n",
    "    Dense(7, activation='softmax')\n",
    "])"
   ]
  },
  {
   "cell_type": "code",
   "execution_count": 7,
   "id": "ef6e1153",
   "metadata": {
    "execution": {
     "iopub.execute_input": "2025-01-21T01:17:59.869851Z",
     "iopub.status.busy": "2025-01-21T01:17:59.869624Z",
     "iopub.status.idle": "2025-01-21T01:17:59.880038Z",
     "shell.execute_reply": "2025-01-21T01:17:59.879458Z"
    },
    "papermill": {
     "duration": 0.015236,
     "end_time": "2025-01-21T01:17:59.881231",
     "exception": false,
     "start_time": "2025-01-21T01:17:59.865995",
     "status": "completed"
    },
    "tags": []
   },
   "outputs": [],
   "source": [
    "# Compile the model\n",
    "optimizer = Adam(learning_rate=0.0001)\n",
    "model.compile(optimizer=optimizer, loss='categorical_crossentropy', metrics=['accuracy'])"
   ]
  },
  {
   "cell_type": "code",
   "execution_count": 8,
   "id": "2e56d57e",
   "metadata": {
    "execution": {
     "iopub.execute_input": "2025-01-21T01:17:59.887669Z",
     "iopub.status.busy": "2025-01-21T01:17:59.887463Z",
     "iopub.status.idle": "2025-01-21T01:17:59.890806Z",
     "shell.execute_reply": "2025-01-21T01:17:59.890207Z"
    },
    "papermill": {
     "duration": 0.007703,
     "end_time": "2025-01-21T01:17:59.891862",
     "exception": false,
     "start_time": "2025-01-21T01:17:59.884159",
     "status": "completed"
    },
    "tags": []
   },
   "outputs": [],
   "source": [
    "# Callbacks\n",
    "reduce_lr = ReduceLROnPlateau(monitor='val_loss', factor=0.3, patience=5, min_lr=1e-6, verbose=1)\n",
    "early_stop = EarlyStopping(monitor='val_loss', patience=10, restore_best_weights=True, verbose=1)"
   ]
  },
  {
   "cell_type": "code",
   "execution_count": 9,
   "id": "b464ab6c",
   "metadata": {
    "execution": {
     "iopub.execute_input": "2025-01-21T01:17:59.898267Z",
     "iopub.status.busy": "2025-01-21T01:17:59.898063Z",
     "iopub.status.idle": "2025-01-21T02:49:15.304941Z",
     "shell.execute_reply": "2025-01-21T02:49:15.304235Z"
    },
    "papermill": {
     "duration": 5475.411486,
     "end_time": "2025-01-21T02:49:15.306218",
     "exception": false,
     "start_time": "2025-01-21T01:17:59.894732",
     "status": "completed"
    },
    "tags": []
   },
   "outputs": [
    {
     "name": "stdout",
     "output_type": "stream",
     "text": [
      "Epoch 1/100\n"
     ]
    },
    {
     "name": "stderr",
     "output_type": "stream",
     "text": [
      "/usr/local/lib/python3.10/dist-packages/keras/src/trainers/data_adapters/py_dataset_adapter.py:122: UserWarning: Your `PyDataset` class should call `super().__init__(**kwargs)` in its constructor. `**kwargs` can include `workers`, `use_multiprocessing`, `max_queue_size`. Do not pass these arguments to `fit()`, as they will be ignored.\n",
      "  self._warn_if_super_not_called()\n"
     ]
    },
    {
     "name": "stdout",
     "output_type": "stream",
     "text": [
      "\u001b[1m359/359\u001b[0m \u001b[32m━━━━━━━━━━━━━━━━━━━━\u001b[0m\u001b[37m\u001b[0m \u001b[1m182s\u001b[0m 452ms/step - accuracy: 0.1662 - loss: 14.7682 - val_accuracy: 0.2406 - val_loss: 13.5146 - learning_rate: 1.0000e-04\n",
      "Epoch 2/100\n",
      "\u001b[1m359/359\u001b[0m \u001b[32m━━━━━━━━━━━━━━━━━━━━\u001b[0m\u001b[37m\u001b[0m \u001b[1m54s\u001b[0m 147ms/step - accuracy: 0.1894 - loss: 13.3421 - val_accuracy: 0.2487 - val_loss: 12.0851 - learning_rate: 1.0000e-04\n",
      "Epoch 3/100\n",
      "\u001b[1m359/359\u001b[0m \u001b[32m━━━━━━━━━━━━━━━━━━━━\u001b[0m\u001b[37m\u001b[0m \u001b[1m53s\u001b[0m 146ms/step - accuracy: 0.2023 - loss: 11.9085 - val_accuracy: 0.2513 - val_loss: 10.6205 - learning_rate: 1.0000e-04\n",
      "Epoch 4/100\n",
      "\u001b[1m359/359\u001b[0m \u001b[32m━━━━━━━━━━━━━━━━━━━━\u001b[0m\u001b[37m\u001b[0m \u001b[1m54s\u001b[0m 149ms/step - accuracy: 0.2142 - loss: 10.4406 - val_accuracy: 0.2498 - val_loss: 9.1743 - learning_rate: 1.0000e-04\n",
      "Epoch 5/100\n",
      "\u001b[1m359/359\u001b[0m \u001b[32m━━━━━━━━━━━━━━━━━━━━\u001b[0m\u001b[37m\u001b[0m \u001b[1m54s\u001b[0m 149ms/step - accuracy: 0.2177 - loss: 9.0555 - val_accuracy: 0.2519 - val_loss: 7.9027 - learning_rate: 1.0000e-04\n",
      "Epoch 6/100\n",
      "\u001b[1m359/359\u001b[0m \u001b[32m━━━━━━━━━━━━━━━━━━━━\u001b[0m\u001b[37m\u001b[0m \u001b[1m54s\u001b[0m 148ms/step - accuracy: 0.2211 - loss: 7.7618 - val_accuracy: 0.2632 - val_loss: 6.7281 - learning_rate: 1.0000e-04\n",
      "Epoch 7/100\n",
      "\u001b[1m359/359\u001b[0m \u001b[32m━━━━━━━━━━━━━━━━━━━━\u001b[0m\u001b[37m\u001b[0m \u001b[1m54s\u001b[0m 147ms/step - accuracy: 0.2337 - loss: 6.5902 - val_accuracy: 0.2789 - val_loss: 5.6598 - learning_rate: 1.0000e-04\n",
      "Epoch 8/100\n",
      "\u001b[1m359/359\u001b[0m \u001b[32m━━━━━━━━━━━━━━━━━━━━\u001b[0m\u001b[37m\u001b[0m \u001b[1m54s\u001b[0m 148ms/step - accuracy: 0.2608 - loss: 5.5585 - val_accuracy: 0.3087 - val_loss: 4.7695 - learning_rate: 1.0000e-04\n",
      "Epoch 9/100\n",
      "\u001b[1m359/359\u001b[0m \u001b[32m━━━━━━━━━━━━━━━━━━━━\u001b[0m\u001b[37m\u001b[0m \u001b[1m54s\u001b[0m 148ms/step - accuracy: 0.2801 - loss: 4.7342 - val_accuracy: 0.3461 - val_loss: 4.0613 - learning_rate: 1.0000e-04\n",
      "Epoch 10/100\n",
      "\u001b[1m359/359\u001b[0m \u001b[32m━━━━━━━━━━━━━━━━━━━━\u001b[0m\u001b[37m\u001b[0m \u001b[1m54s\u001b[0m 147ms/step - accuracy: 0.3169 - loss: 4.0516 - val_accuracy: 0.3637 - val_loss: 3.5534 - learning_rate: 1.0000e-04\n",
      "Epoch 11/100\n",
      "\u001b[1m359/359\u001b[0m \u001b[32m━━━━━━━━━━━━━━━━━━━━\u001b[0m\u001b[37m\u001b[0m \u001b[1m54s\u001b[0m 147ms/step - accuracy: 0.3311 - loss: 3.5375 - val_accuracy: 0.3750 - val_loss: 3.1396 - learning_rate: 1.0000e-04\n",
      "Epoch 12/100\n",
      "\u001b[1m359/359\u001b[0m \u001b[32m━━━━━━━━━━━━━━━━━━━━\u001b[0m\u001b[37m\u001b[0m \u001b[1m53s\u001b[0m 146ms/step - accuracy: 0.3646 - loss: 3.1244 - val_accuracy: 0.3667 - val_loss: 3.0271 - learning_rate: 1.0000e-04\n",
      "Epoch 13/100\n",
      "\u001b[1m359/359\u001b[0m \u001b[32m━━━━━━━━━━━━━━━━━━━━\u001b[0m\u001b[37m\u001b[0m \u001b[1m53s\u001b[0m 145ms/step - accuracy: 0.3915 - loss: 2.8129 - val_accuracy: 0.3698 - val_loss: 2.6748 - learning_rate: 1.0000e-04\n",
      "Epoch 14/100\n",
      "\u001b[1m359/359\u001b[0m \u001b[32m━━━━━━━━━━━━━━━━━━━━\u001b[0m\u001b[37m\u001b[0m \u001b[1m55s\u001b[0m 151ms/step - accuracy: 0.4256 - loss: 2.5380 - val_accuracy: 0.4388 - val_loss: 2.4199 - learning_rate: 1.0000e-04\n",
      "Epoch 15/100\n",
      "\u001b[1m359/359\u001b[0m \u001b[32m━━━━━━━━━━━━━━━━━━━━\u001b[0m\u001b[37m\u001b[0m \u001b[1m56s\u001b[0m 153ms/step - accuracy: 0.4396 - loss: 2.3516 - val_accuracy: 0.4823 - val_loss: 2.1699 - learning_rate: 1.0000e-04\n",
      "Epoch 16/100\n",
      "\u001b[1m359/359\u001b[0m \u001b[32m━━━━━━━━━━━━━━━━━━━━\u001b[0m\u001b[37m\u001b[0m \u001b[1m54s\u001b[0m 149ms/step - accuracy: 0.4607 - loss: 2.2012 - val_accuracy: 0.4855 - val_loss: 2.0916 - learning_rate: 1.0000e-04\n",
      "Epoch 17/100\n",
      "\u001b[1m359/359\u001b[0m \u001b[32m━━━━━━━━━━━━━━━━━━━━\u001b[0m\u001b[37m\u001b[0m \u001b[1m53s\u001b[0m 146ms/step - accuracy: 0.4844 - loss: 2.0746 - val_accuracy: 0.5201 - val_loss: 1.9484 - learning_rate: 1.0000e-04\n",
      "Epoch 18/100\n",
      "\u001b[1m359/359\u001b[0m \u001b[32m━━━━━━━━━━━━━━━━━━━━\u001b[0m\u001b[37m\u001b[0m \u001b[1m53s\u001b[0m 146ms/step - accuracy: 0.5041 - loss: 1.9603 - val_accuracy: 0.5053 - val_loss: 1.9229 - learning_rate: 1.0000e-04\n",
      "Epoch 19/100\n",
      "\u001b[1m359/359\u001b[0m \u001b[32m━━━━━━━━━━━━━━━━━━━━\u001b[0m\u001b[37m\u001b[0m \u001b[1m53s\u001b[0m 145ms/step - accuracy: 0.5160 - loss: 1.8867 - val_accuracy: 0.5337 - val_loss: 1.7845 - learning_rate: 1.0000e-04\n",
      "Epoch 20/100\n",
      "\u001b[1m359/359\u001b[0m \u001b[32m━━━━━━━━━━━━━━━━━━━━\u001b[0m\u001b[37m\u001b[0m \u001b[1m53s\u001b[0m 144ms/step - accuracy: 0.5112 - loss: 1.8559 - val_accuracy: 0.5419 - val_loss: 1.7534 - learning_rate: 1.0000e-04\n",
      "Epoch 21/100\n",
      "\u001b[1m359/359\u001b[0m \u001b[32m━━━━━━━━━━━━━━━━━━━━\u001b[0m\u001b[37m\u001b[0m \u001b[1m53s\u001b[0m 146ms/step - accuracy: 0.5315 - loss: 1.7868 - val_accuracy: 0.5426 - val_loss: 1.7549 - learning_rate: 1.0000e-04\n",
      "Epoch 22/100\n",
      "\u001b[1m359/359\u001b[0m \u001b[32m━━━━━━━━━━━━━━━━━━━━\u001b[0m\u001b[37m\u001b[0m \u001b[1m53s\u001b[0m 146ms/step - accuracy: 0.5336 - loss: 1.7566 - val_accuracy: 0.5645 - val_loss: 1.6770 - learning_rate: 1.0000e-04\n",
      "Epoch 23/100\n",
      "\u001b[1m359/359\u001b[0m \u001b[32m━━━━━━━━━━━━━━━━━━━━\u001b[0m\u001b[37m\u001b[0m \u001b[1m54s\u001b[0m 149ms/step - accuracy: 0.5408 - loss: 1.7265 - val_accuracy: 0.5126 - val_loss: 1.7600 - learning_rate: 1.0000e-04\n",
      "Epoch 24/100\n",
      "\u001b[1m359/359\u001b[0m \u001b[32m━━━━━━━━━━━━━━━━━━━━\u001b[0m\u001b[37m\u001b[0m \u001b[1m55s\u001b[0m 150ms/step - accuracy: 0.5522 - loss: 1.7031 - val_accuracy: 0.5565 - val_loss: 1.6662 - learning_rate: 1.0000e-04\n",
      "Epoch 25/100\n",
      "\u001b[1m359/359\u001b[0m \u001b[32m━━━━━━━━━━━━━━━━━━━━\u001b[0m\u001b[37m\u001b[0m \u001b[1m54s\u001b[0m 147ms/step - accuracy: 0.5466 - loss: 1.6893 - val_accuracy: 0.5586 - val_loss: 1.6484 - learning_rate: 1.0000e-04\n",
      "Epoch 26/100\n",
      "\u001b[1m359/359\u001b[0m \u001b[32m━━━━━━━━━━━━━━━━━━━━\u001b[0m\u001b[37m\u001b[0m \u001b[1m55s\u001b[0m 150ms/step - accuracy: 0.5525 - loss: 1.6726 - val_accuracy: 0.5671 - val_loss: 1.6179 - learning_rate: 1.0000e-04\n",
      "Epoch 27/100\n",
      "\u001b[1m359/359\u001b[0m \u001b[32m━━━━━━━━━━━━━━━━━━━━\u001b[0m\u001b[37m\u001b[0m \u001b[1m54s\u001b[0m 149ms/step - accuracy: 0.5623 - loss: 1.6585 - val_accuracy: 0.5537 - val_loss: 1.6322 - learning_rate: 1.0000e-04\n",
      "Epoch 28/100\n",
      "\u001b[1m359/359\u001b[0m \u001b[32m━━━━━━━━━━━━━━━━━━━━\u001b[0m\u001b[37m\u001b[0m \u001b[1m54s\u001b[0m 149ms/step - accuracy: 0.5671 - loss: 1.6321 - val_accuracy: 0.5729 - val_loss: 1.6127 - learning_rate: 1.0000e-04\n",
      "Epoch 29/100\n",
      "\u001b[1m359/359\u001b[0m \u001b[32m━━━━━━━━━━━━━━━━━━━━\u001b[0m\u001b[37m\u001b[0m \u001b[1m53s\u001b[0m 146ms/step - accuracy: 0.5640 - loss: 1.6437 - val_accuracy: 0.5635 - val_loss: 1.6048 - learning_rate: 1.0000e-04\n",
      "Epoch 30/100\n",
      "\u001b[1m359/359\u001b[0m \u001b[32m━━━━━━━━━━━━━━━━━━━━\u001b[0m\u001b[37m\u001b[0m \u001b[1m53s\u001b[0m 146ms/step - accuracy: 0.5699 - loss: 1.6220 - val_accuracy: 0.5872 - val_loss: 1.5746 - learning_rate: 1.0000e-04\n",
      "Epoch 31/100\n",
      "\u001b[1m359/359\u001b[0m \u001b[32m━━━━━━━━━━━━━━━━━━━━\u001b[0m\u001b[37m\u001b[0m \u001b[1m55s\u001b[0m 150ms/step - accuracy: 0.5807 - loss: 1.5962 - val_accuracy: 0.5651 - val_loss: 1.6563 - learning_rate: 1.0000e-04\n",
      "Epoch 32/100\n",
      "\u001b[1m359/359\u001b[0m \u001b[32m━━━━━━━━━━━━━━━━━━━━\u001b[0m\u001b[37m\u001b[0m \u001b[1m55s\u001b[0m 152ms/step - accuracy: 0.5747 - loss: 1.5982 - val_accuracy: 0.5833 - val_loss: 1.5861 - learning_rate: 1.0000e-04\n",
      "Epoch 33/100\n",
      "\u001b[1m359/359\u001b[0m \u001b[32m━━━━━━━━━━━━━━━━━━━━\u001b[0m\u001b[37m\u001b[0m \u001b[1m55s\u001b[0m 150ms/step - accuracy: 0.5780 - loss: 1.5922 - val_accuracy: 0.5630 - val_loss: 1.6282 - learning_rate: 1.0000e-04\n",
      "Epoch 34/100\n",
      "\u001b[1m359/359\u001b[0m \u001b[32m━━━━━━━━━━━━━━━━━━━━\u001b[0m\u001b[37m\u001b[0m \u001b[1m54s\u001b[0m 149ms/step - accuracy: 0.5835 - loss: 1.5806 - val_accuracy: 0.5921 - val_loss: 1.5499 - learning_rate: 1.0000e-04\n",
      "Epoch 35/100\n",
      "\u001b[1m359/359\u001b[0m \u001b[32m━━━━━━━━━━━━━━━━━━━━\u001b[0m\u001b[37m\u001b[0m \u001b[1m55s\u001b[0m 150ms/step - accuracy: 0.5884 - loss: 1.5716 - val_accuracy: 0.5708 - val_loss: 1.5675 - learning_rate: 1.0000e-04\n",
      "Epoch 36/100\n",
      "\u001b[1m359/359\u001b[0m \u001b[32m━━━━━━━━━━━━━━━━━━━━\u001b[0m\u001b[37m\u001b[0m \u001b[1m56s\u001b[0m 154ms/step - accuracy: 0.5908 - loss: 1.5719 - val_accuracy: 0.5830 - val_loss: 1.5766 - learning_rate: 1.0000e-04\n",
      "Epoch 37/100\n",
      "\u001b[1m359/359\u001b[0m \u001b[32m━━━━━━━━━━━━━━━━━━━━\u001b[0m\u001b[37m\u001b[0m \u001b[1m55s\u001b[0m 149ms/step - accuracy: 0.5892 - loss: 1.5668 - val_accuracy: 0.5778 - val_loss: 1.5790 - learning_rate: 1.0000e-04\n",
      "Epoch 38/100\n",
      "\u001b[1m359/359\u001b[0m \u001b[32m━━━━━━━━━━━━━━━━━━━━\u001b[0m\u001b[37m\u001b[0m \u001b[1m54s\u001b[0m 147ms/step - accuracy: 0.5956 - loss: 1.5573 - val_accuracy: 0.5849 - val_loss: 1.5664 - learning_rate: 1.0000e-04\n",
      "Epoch 39/100\n",
      "\u001b[1m358/359\u001b[0m \u001b[32m━━━━━━━━━━━━━━━━━━━\u001b[0m\u001b[37m━\u001b[0m \u001b[1m0s\u001b[0m 117ms/step - accuracy: 0.5988 - loss: 1.5438\n",
      "Epoch 39: ReduceLROnPlateau reducing learning rate to 2.9999999242136255e-05.\n",
      "\u001b[1m359/359\u001b[0m \u001b[32m━━━━━━━━━━━━━━━━━━━━\u001b[0m\u001b[37m\u001b[0m \u001b[1m53s\u001b[0m 146ms/step - accuracy: 0.5988 - loss: 1.5439 - val_accuracy: 0.5882 - val_loss: 1.5517 - learning_rate: 1.0000e-04\n",
      "Epoch 40/100\n",
      "\u001b[1m359/359\u001b[0m \u001b[32m━━━━━━━━━━━━━━━━━━━━\u001b[0m\u001b[37m\u001b[0m \u001b[1m56s\u001b[0m 153ms/step - accuracy: 0.6002 - loss: 1.5196 - val_accuracy: 0.6203 - val_loss: 1.4592 - learning_rate: 3.0000e-05\n",
      "Epoch 41/100\n",
      "\u001b[1m359/359\u001b[0m \u001b[32m━━━━━━━━━━━━━━━━━━━━\u001b[0m\u001b[37m\u001b[0m \u001b[1m57s\u001b[0m 157ms/step - accuracy: 0.6197 - loss: 1.4495 - val_accuracy: 0.6231 - val_loss: 1.4217 - learning_rate: 3.0000e-05\n",
      "Epoch 42/100\n",
      "\u001b[1m359/359\u001b[0m \u001b[32m━━━━━━━━━━━━━━━━━━━━\u001b[0m\u001b[37m\u001b[0m \u001b[1m58s\u001b[0m 160ms/step - accuracy: 0.6246 - loss: 1.4058 - val_accuracy: 0.6159 - val_loss: 1.4019 - learning_rate: 3.0000e-05\n",
      "Epoch 43/100\n",
      "\u001b[1m359/359\u001b[0m \u001b[32m━━━━━━━━━━━━━━━━━━━━\u001b[0m\u001b[37m\u001b[0m \u001b[1m57s\u001b[0m 157ms/step - accuracy: 0.6236 - loss: 1.3758 - val_accuracy: 0.6116 - val_loss: 1.4016 - learning_rate: 3.0000e-05\n",
      "Epoch 44/100\n",
      "\u001b[1m359/359\u001b[0m \u001b[32m━━━━━━━━━━━━━━━━━━━━\u001b[0m\u001b[37m\u001b[0m \u001b[1m55s\u001b[0m 152ms/step - accuracy: 0.6386 - loss: 1.3476 - val_accuracy: 0.6215 - val_loss: 1.3632 - learning_rate: 3.0000e-05\n",
      "Epoch 45/100\n",
      "\u001b[1m359/359\u001b[0m \u001b[32m━━━━━━━━━━━━━━━━━━━━\u001b[0m\u001b[37m\u001b[0m \u001b[1m55s\u001b[0m 150ms/step - accuracy: 0.6326 - loss: 1.3384 - val_accuracy: 0.6290 - val_loss: 1.3418 - learning_rate: 3.0000e-05\n",
      "Epoch 46/100\n",
      "\u001b[1m359/359\u001b[0m \u001b[32m━━━━━━━━━━━━━━━━━━━━\u001b[0m\u001b[37m\u001b[0m \u001b[1m54s\u001b[0m 148ms/step - accuracy: 0.6326 - loss: 1.3314 - val_accuracy: 0.6210 - val_loss: 1.3413 - learning_rate: 3.0000e-05\n",
      "Epoch 47/100\n",
      "\u001b[1m359/359\u001b[0m \u001b[32m━━━━━━━━━━━━━━━━━━━━\u001b[0m\u001b[37m\u001b[0m \u001b[1m55s\u001b[0m 150ms/step - accuracy: 0.6410 - loss: 1.3132 - val_accuracy: 0.6199 - val_loss: 1.3385 - learning_rate: 3.0000e-05\n",
      "Epoch 48/100\n",
      "\u001b[1m359/359\u001b[0m \u001b[32m━━━━━━━━━━━━━━━━━━━━\u001b[0m\u001b[37m\u001b[0m \u001b[1m55s\u001b[0m 152ms/step - accuracy: 0.6341 - loss: 1.3106 - val_accuracy: 0.6267 - val_loss: 1.3268 - learning_rate: 3.0000e-05\n",
      "Epoch 49/100\n",
      "\u001b[1m359/359\u001b[0m \u001b[32m━━━━━━━━━━━━━━━━━━━━\u001b[0m\u001b[37m\u001b[0m \u001b[1m55s\u001b[0m 150ms/step - accuracy: 0.6367 - loss: 1.2934 - val_accuracy: 0.6210 - val_loss: 1.3175 - learning_rate: 3.0000e-05\n",
      "Epoch 50/100\n",
      "\u001b[1m359/359\u001b[0m \u001b[32m━━━━━━━━━━━━━━━━━━━━\u001b[0m\u001b[37m\u001b[0m \u001b[1m55s\u001b[0m 150ms/step - accuracy: 0.6417 - loss: 1.2838 - val_accuracy: 0.6323 - val_loss: 1.3079 - learning_rate: 3.0000e-05\n",
      "Epoch 51/100\n",
      "\u001b[1m359/359\u001b[0m \u001b[32m━━━━━━━━━━━━━━━━━━━━\u001b[0m\u001b[37m\u001b[0m \u001b[1m54s\u001b[0m 149ms/step - accuracy: 0.6490 - loss: 1.2700 - val_accuracy: 0.6248 - val_loss: 1.3078 - learning_rate: 3.0000e-05\n",
      "Epoch 52/100\n",
      "\u001b[1m359/359\u001b[0m \u001b[32m━━━━━━━━━━━━━━━━━━━━\u001b[0m\u001b[37m\u001b[0m \u001b[1m54s\u001b[0m 149ms/step - accuracy: 0.6531 - loss: 1.2530 - val_accuracy: 0.6311 - val_loss: 1.3123 - learning_rate: 3.0000e-05\n",
      "Epoch 53/100\n",
      "\u001b[1m359/359\u001b[0m \u001b[32m━━━━━━━━━━━━━━━━━━━━\u001b[0m\u001b[37m\u001b[0m \u001b[1m55s\u001b[0m 150ms/step - accuracy: 0.6496 - loss: 1.2608 - val_accuracy: 0.6368 - val_loss: 1.3011 - learning_rate: 3.0000e-05\n",
      "Epoch 54/100\n",
      "\u001b[1m359/359\u001b[0m \u001b[32m━━━━━━━━━━━━━━━━━━━━\u001b[0m\u001b[37m\u001b[0m \u001b[1m56s\u001b[0m 152ms/step - accuracy: 0.6516 - loss: 1.2532 - val_accuracy: 0.6285 - val_loss: 1.3052 - learning_rate: 3.0000e-05\n",
      "Epoch 55/100\n",
      "\u001b[1m359/359\u001b[0m \u001b[32m━━━━━━━━━━━━━━━━━━━━\u001b[0m\u001b[37m\u001b[0m \u001b[1m56s\u001b[0m 154ms/step - accuracy: 0.6489 - loss: 1.2537 - val_accuracy: 0.6269 - val_loss: 1.3116 - learning_rate: 3.0000e-05\n",
      "Epoch 56/100\n",
      "\u001b[1m359/359\u001b[0m \u001b[32m━━━━━━━━━━━━━━━━━━━━\u001b[0m\u001b[37m\u001b[0m \u001b[1m56s\u001b[0m 153ms/step - accuracy: 0.6514 - loss: 1.2467 - val_accuracy: 0.6278 - val_loss: 1.3201 - learning_rate: 3.0000e-05\n",
      "Epoch 57/100\n",
      "\u001b[1m359/359\u001b[0m \u001b[32m━━━━━━━━━━━━━━━━━━━━\u001b[0m\u001b[37m\u001b[0m \u001b[1m57s\u001b[0m 155ms/step - accuracy: 0.6565 - loss: 1.2427 - val_accuracy: 0.6365 - val_loss: 1.3026 - learning_rate: 3.0000e-05\n",
      "Epoch 58/100\n",
      "\u001b[1m359/359\u001b[0m \u001b[32m━━━━━━━━━━━━━━━━━━━━\u001b[0m\u001b[37m\u001b[0m \u001b[1m56s\u001b[0m 153ms/step - accuracy: 0.6568 - loss: 1.2416 - val_accuracy: 0.6433 - val_loss: 1.2854 - learning_rate: 3.0000e-05\n",
      "Epoch 59/100\n",
      "\u001b[1m359/359\u001b[0m \u001b[32m━━━━━━━━━━━━━━━━━━━━\u001b[0m\u001b[37m\u001b[0m \u001b[1m56s\u001b[0m 153ms/step - accuracy: 0.6550 - loss: 1.2360 - val_accuracy: 0.6408 - val_loss: 1.2947 - learning_rate: 3.0000e-05\n",
      "Epoch 60/100\n",
      "\u001b[1m359/359\u001b[0m \u001b[32m━━━━━━━━━━━━━━━━━━━━\u001b[0m\u001b[37m\u001b[0m \u001b[1m53s\u001b[0m 146ms/step - accuracy: 0.6568 - loss: 1.2375 - val_accuracy: 0.6316 - val_loss: 1.2958 - learning_rate: 3.0000e-05\n",
      "Epoch 61/100\n",
      "\u001b[1m359/359\u001b[0m \u001b[32m━━━━━━━━━━━━━━━━━━━━\u001b[0m\u001b[37m\u001b[0m \u001b[1m53s\u001b[0m 144ms/step - accuracy: 0.6675 - loss: 1.2100 - val_accuracy: 0.6351 - val_loss: 1.2955 - learning_rate: 3.0000e-05\n",
      "Epoch 62/100\n",
      "\u001b[1m359/359\u001b[0m \u001b[32m━━━━━━━━━━━━━━━━━━━━\u001b[0m\u001b[37m\u001b[0m \u001b[1m53s\u001b[0m 144ms/step - accuracy: 0.6586 - loss: 1.2244 - val_accuracy: 0.6366 - val_loss: 1.3014 - learning_rate: 3.0000e-05\n",
      "Epoch 63/100\n",
      "\u001b[1m359/359\u001b[0m \u001b[32m━━━━━━━━━━━━━━━━━━━━\u001b[0m\u001b[37m\u001b[0m \u001b[1m53s\u001b[0m 145ms/step - accuracy: 0.6694 - loss: 1.2052 - val_accuracy: 0.6419 - val_loss: 1.2803 - learning_rate: 3.0000e-05\n",
      "Epoch 64/100\n",
      "\u001b[1m359/359\u001b[0m \u001b[32m━━━━━━━━━━━━━━━━━━━━\u001b[0m\u001b[37m\u001b[0m \u001b[1m53s\u001b[0m 144ms/step - accuracy: 0.6702 - loss: 1.2073 - val_accuracy: 0.6445 - val_loss: 1.2929 - learning_rate: 3.0000e-05\n",
      "Epoch 65/100\n",
      "\u001b[1m359/359\u001b[0m \u001b[32m━━━━━━━━━━━━━━━━━━━━\u001b[0m\u001b[37m\u001b[0m \u001b[1m53s\u001b[0m 146ms/step - accuracy: 0.6676 - loss: 1.2052 - val_accuracy: 0.6420 - val_loss: 1.2917 - learning_rate: 3.0000e-05\n",
      "Epoch 66/100\n",
      "\u001b[1m359/359\u001b[0m \u001b[32m━━━━━━━━━━━━━━━━━━━━\u001b[0m\u001b[37m\u001b[0m \u001b[1m54s\u001b[0m 149ms/step - accuracy: 0.6695 - loss: 1.2125 - val_accuracy: 0.6403 - val_loss: 1.2940 - learning_rate: 3.0000e-05\n",
      "Epoch 67/100\n",
      "\u001b[1m359/359\u001b[0m \u001b[32m━━━━━━━━━━━━━━━━━━━━\u001b[0m\u001b[37m\u001b[0m \u001b[1m53s\u001b[0m 146ms/step - accuracy: 0.6710 - loss: 1.2059 - val_accuracy: 0.6330 - val_loss: 1.3060 - learning_rate: 3.0000e-05\n",
      "Epoch 68/100\n",
      "\u001b[1m358/359\u001b[0m \u001b[32m━━━━━━━━━━━━━━━━━━━\u001b[0m\u001b[37m━\u001b[0m \u001b[1m0s\u001b[0m 121ms/step - accuracy: 0.6750 - loss: 1.1977\n",
      "Epoch 68: ReduceLROnPlateau reducing learning rate to 8.999999772640877e-06.\n",
      "\u001b[1m359/359\u001b[0m \u001b[32m━━━━━━━━━━━━━━━━━━━━\u001b[0m\u001b[37m\u001b[0m \u001b[1m55s\u001b[0m 149ms/step - accuracy: 0.6749 - loss: 1.1977 - val_accuracy: 0.6403 - val_loss: 1.3025 - learning_rate: 3.0000e-05\n",
      "Epoch 69/100\n",
      "\u001b[1m359/359\u001b[0m \u001b[32m━━━━━━━━━━━━━━━━━━━━\u001b[0m\u001b[37m\u001b[0m \u001b[1m53s\u001b[0m 145ms/step - accuracy: 0.6781 - loss: 1.1876 - val_accuracy: 0.6398 - val_loss: 1.2818 - learning_rate: 9.0000e-06\n",
      "Epoch 70/100\n",
      "\u001b[1m359/359\u001b[0m \u001b[32m━━━━━━━━━━━━━━━━━━━━\u001b[0m\u001b[37m\u001b[0m \u001b[1m53s\u001b[0m 147ms/step - accuracy: 0.6792 - loss: 1.1749 - val_accuracy: 0.6420 - val_loss: 1.2776 - learning_rate: 9.0000e-06\n",
      "Epoch 71/100\n",
      "\u001b[1m359/359\u001b[0m \u001b[32m━━━━━━━━━━━━━━━━━━━━\u001b[0m\u001b[37m\u001b[0m \u001b[1m56s\u001b[0m 154ms/step - accuracy: 0.6831 - loss: 1.1691 - val_accuracy: 0.6452 - val_loss: 1.2766 - learning_rate: 9.0000e-06\n",
      "Epoch 72/100\n",
      "\u001b[1m359/359\u001b[0m \u001b[32m━━━━━━━━━━━━━━━━━━━━\u001b[0m\u001b[37m\u001b[0m \u001b[1m55s\u001b[0m 151ms/step - accuracy: 0.6836 - loss: 1.1536 - val_accuracy: 0.6485 - val_loss: 1.2598 - learning_rate: 9.0000e-06\n",
      "Epoch 73/100\n",
      "\u001b[1m359/359\u001b[0m \u001b[32m━━━━━━━━━━━━━━━━━━━━\u001b[0m\u001b[37m\u001b[0m \u001b[1m56s\u001b[0m 153ms/step - accuracy: 0.6939 - loss: 1.1451 - val_accuracy: 0.6556 - val_loss: 1.2638 - learning_rate: 9.0000e-06\n",
      "Epoch 74/100\n",
      "\u001b[1m359/359\u001b[0m \u001b[32m━━━━━━━━━━━━━━━━━━━━\u001b[0m\u001b[37m\u001b[0m \u001b[1m53s\u001b[0m 145ms/step - accuracy: 0.6931 - loss: 1.1354 - val_accuracy: 0.6447 - val_loss: 1.2821 - learning_rate: 9.0000e-06\n",
      "Epoch 75/100\n",
      "\u001b[1m359/359\u001b[0m \u001b[32m━━━━━━━━━━━━━━━━━━━━\u001b[0m\u001b[37m\u001b[0m \u001b[1m53s\u001b[0m 144ms/step - accuracy: 0.6968 - loss: 1.1320 - val_accuracy: 0.6447 - val_loss: 1.2619 - learning_rate: 9.0000e-06\n",
      "Epoch 76/100\n",
      "\u001b[1m359/359\u001b[0m \u001b[32m━━━━━━━━━━━━━━━━━━━━\u001b[0m\u001b[37m\u001b[0m \u001b[1m53s\u001b[0m 146ms/step - accuracy: 0.7000 - loss: 1.1225 - val_accuracy: 0.6518 - val_loss: 1.2649 - learning_rate: 9.0000e-06\n",
      "Epoch 77/100\n",
      "\u001b[1m359/359\u001b[0m \u001b[32m━━━━━━━━━━━━━━━━━━━━\u001b[0m\u001b[37m\u001b[0m \u001b[1m53s\u001b[0m 144ms/step - accuracy: 0.6966 - loss: 1.1159 - val_accuracy: 0.6544 - val_loss: 1.2569 - learning_rate: 9.0000e-06\n",
      "Epoch 78/100\n",
      "\u001b[1m359/359\u001b[0m \u001b[32m━━━━━━━━━━━━━━━━━━━━\u001b[0m\u001b[37m\u001b[0m \u001b[1m53s\u001b[0m 145ms/step - accuracy: 0.7021 - loss: 1.1005 - val_accuracy: 0.6508 - val_loss: 1.2560 - learning_rate: 9.0000e-06\n",
      "Epoch 79/100\n",
      "\u001b[1m359/359\u001b[0m \u001b[32m━━━━━━━━━━━━━━━━━━━━\u001b[0m\u001b[37m\u001b[0m \u001b[1m53s\u001b[0m 146ms/step - accuracy: 0.6958 - loss: 1.1089 - val_accuracy: 0.6471 - val_loss: 1.2510 - learning_rate: 9.0000e-06\n",
      "Epoch 80/100\n",
      "\u001b[1m359/359\u001b[0m \u001b[32m━━━━━━━━━━━━━━━━━━━━\u001b[0m\u001b[37m\u001b[0m \u001b[1m52s\u001b[0m 144ms/step - accuracy: 0.6993 - loss: 1.1135 - val_accuracy: 0.6494 - val_loss: 1.2426 - learning_rate: 9.0000e-06\n",
      "Epoch 81/100\n",
      "\u001b[1m359/359\u001b[0m \u001b[32m━━━━━━━━━━━━━━━━━━━━\u001b[0m\u001b[37m\u001b[0m \u001b[1m54s\u001b[0m 149ms/step - accuracy: 0.6943 - loss: 1.1034 - val_accuracy: 0.6569 - val_loss: 1.2383 - learning_rate: 9.0000e-06\n",
      "Epoch 82/100\n",
      "\u001b[1m359/359\u001b[0m \u001b[32m━━━━━━━━━━━━━━━━━━━━\u001b[0m\u001b[37m\u001b[0m \u001b[1m54s\u001b[0m 147ms/step - accuracy: 0.7070 - loss: 1.0880 - val_accuracy: 0.6542 - val_loss: 1.2467 - learning_rate: 9.0000e-06\n",
      "Epoch 83/100\n",
      "\u001b[1m359/359\u001b[0m \u001b[32m━━━━━━━━━━━━━━━━━━━━\u001b[0m\u001b[37m\u001b[0m \u001b[1m52s\u001b[0m 144ms/step - accuracy: 0.6987 - loss: 1.1019 - val_accuracy: 0.6551 - val_loss: 1.2433 - learning_rate: 9.0000e-06\n",
      "Epoch 84/100\n",
      "\u001b[1m359/359\u001b[0m \u001b[32m━━━━━━━━━━━━━━━━━━━━\u001b[0m\u001b[37m\u001b[0m \u001b[1m52s\u001b[0m 143ms/step - accuracy: 0.7092 - loss: 1.0821 - val_accuracy: 0.6541 - val_loss: 1.2405 - learning_rate: 9.0000e-06\n",
      "Epoch 85/100\n",
      "\u001b[1m359/359\u001b[0m \u001b[32m━━━━━━━━━━━━━━━━━━━━\u001b[0m\u001b[37m\u001b[0m \u001b[1m52s\u001b[0m 143ms/step - accuracy: 0.7062 - loss: 1.0726 - val_accuracy: 0.6631 - val_loss: 1.2309 - learning_rate: 9.0000e-06\n",
      "Epoch 86/100\n",
      "\u001b[1m359/359\u001b[0m \u001b[32m━━━━━━━━━━━━━━━━━━━━\u001b[0m\u001b[37m\u001b[0m \u001b[1m52s\u001b[0m 143ms/step - accuracy: 0.7104 - loss: 1.0652 - val_accuracy: 0.6487 - val_loss: 1.2524 - learning_rate: 9.0000e-06\n",
      "Epoch 87/100\n",
      "\u001b[1m359/359\u001b[0m \u001b[32m━━━━━━━━━━━━━━━━━━━━\u001b[0m\u001b[37m\u001b[0m \u001b[1m53s\u001b[0m 145ms/step - accuracy: 0.7133 - loss: 1.0664 - val_accuracy: 0.6553 - val_loss: 1.2392 - learning_rate: 9.0000e-06\n",
      "Epoch 88/100\n",
      "\u001b[1m359/359\u001b[0m \u001b[32m━━━━━━━━━━━━━━━━━━━━\u001b[0m\u001b[37m\u001b[0m \u001b[1m54s\u001b[0m 147ms/step - accuracy: 0.7115 - loss: 1.0543 - val_accuracy: 0.6556 - val_loss: 1.2471 - learning_rate: 9.0000e-06\n",
      "Epoch 89/100\n",
      "\u001b[1m359/359\u001b[0m \u001b[32m━━━━━━━━━━━━━━━━━━━━\u001b[0m\u001b[37m\u001b[0m \u001b[1m54s\u001b[0m 149ms/step - accuracy: 0.7049 - loss: 1.0752 - val_accuracy: 0.6572 - val_loss: 1.2198 - learning_rate: 9.0000e-06\n",
      "Epoch 90/100\n",
      "\u001b[1m359/359\u001b[0m \u001b[32m━━━━━━━━━━━━━━━━━━━━\u001b[0m\u001b[37m\u001b[0m \u001b[1m53s\u001b[0m 146ms/step - accuracy: 0.7051 - loss: 1.0632 - val_accuracy: 0.6572 - val_loss: 1.2314 - learning_rate: 9.0000e-06\n",
      "Epoch 91/100\n",
      "\u001b[1m359/359\u001b[0m \u001b[32m━━━━━━━━━━━━━━━━━━━━\u001b[0m\u001b[37m\u001b[0m \u001b[1m52s\u001b[0m 144ms/step - accuracy: 0.7134 - loss: 1.0455 - val_accuracy: 0.6581 - val_loss: 1.2351 - learning_rate: 9.0000e-06\n",
      "Epoch 92/100\n",
      "\u001b[1m359/359\u001b[0m \u001b[32m━━━━━━━━━━━━━━━━━━━━\u001b[0m\u001b[37m\u001b[0m \u001b[1m52s\u001b[0m 144ms/step - accuracy: 0.7110 - loss: 1.0587 - val_accuracy: 0.6549 - val_loss: 1.2422 - learning_rate: 9.0000e-06\n",
      "Epoch 93/100\n",
      "\u001b[1m359/359\u001b[0m \u001b[32m━━━━━━━━━━━━━━━━━━━━\u001b[0m\u001b[37m\u001b[0m \u001b[1m53s\u001b[0m 145ms/step - accuracy: 0.7141 - loss: 1.0425 - val_accuracy: 0.6596 - val_loss: 1.2315 - learning_rate: 9.0000e-06\n",
      "Epoch 94/100\n",
      "\u001b[1m358/359\u001b[0m \u001b[32m━━━━━━━━━━━━━━━━━━━\u001b[0m\u001b[37m━\u001b[0m \u001b[1m0s\u001b[0m 118ms/step - accuracy: 0.7188 - loss: 1.0311\n",
      "Epoch 94: ReduceLROnPlateau reducing learning rate to 2.6999998226528985e-06.\n",
      "\u001b[1m359/359\u001b[0m \u001b[32m━━━━━━━━━━━━━━━━━━━━\u001b[0m\u001b[37m\u001b[0m \u001b[1m54s\u001b[0m 147ms/step - accuracy: 0.7187 - loss: 1.0312 - val_accuracy: 0.6595 - val_loss: 1.2249 - learning_rate: 9.0000e-06\n",
      "Epoch 95/100\n",
      "\u001b[1m359/359\u001b[0m \u001b[32m━━━━━━━━━━━━━━━━━━━━\u001b[0m\u001b[37m\u001b[0m \u001b[1m52s\u001b[0m 143ms/step - accuracy: 0.7153 - loss: 1.0408 - val_accuracy: 0.6586 - val_loss: 1.2272 - learning_rate: 2.7000e-06\n",
      "Epoch 96/100\n",
      "\u001b[1m359/359\u001b[0m \u001b[32m━━━━━━━━━━━━━━━━━━━━\u001b[0m\u001b[37m\u001b[0m \u001b[1m52s\u001b[0m 143ms/step - accuracy: 0.7207 - loss: 1.0281 - val_accuracy: 0.6610 - val_loss: 1.2309 - learning_rate: 2.7000e-06\n",
      "Epoch 97/100\n",
      "\u001b[1m359/359\u001b[0m \u001b[32m━━━━━━━━━━━━━━━━━━━━\u001b[0m\u001b[37m\u001b[0m \u001b[1m52s\u001b[0m 143ms/step - accuracy: 0.7167 - loss: 1.0200 - val_accuracy: 0.6574 - val_loss: 1.2303 - learning_rate: 2.7000e-06\n",
      "Epoch 98/100\n",
      "\u001b[1m359/359\u001b[0m \u001b[32m━━━━━━━━━━━━━━━━━━━━\u001b[0m\u001b[37m\u001b[0m \u001b[1m52s\u001b[0m 143ms/step - accuracy: 0.7283 - loss: 1.0115 - val_accuracy: 0.6610 - val_loss: 1.2259 - learning_rate: 2.7000e-06\n",
      "Epoch 99/100\n",
      "\u001b[1m358/359\u001b[0m \u001b[32m━━━━━━━━━━━━━━━━━━━\u001b[0m\u001b[37m━\u001b[0m \u001b[1m0s\u001b[0m 115ms/step - accuracy: 0.7126 - loss: 1.0340\n",
      "Epoch 99: ReduceLROnPlateau reducing learning rate to 1e-06.\n",
      "\u001b[1m359/359\u001b[0m \u001b[32m━━━━━━━━━━━━━━━━━━━━\u001b[0m\u001b[37m\u001b[0m \u001b[1m52s\u001b[0m 144ms/step - accuracy: 0.7126 - loss: 1.0339 - val_accuracy: 0.6532 - val_loss: 1.2329 - learning_rate: 2.7000e-06\n",
      "Epoch 99: early stopping\n",
      "Restoring model weights from the end of the best epoch: 89.\n"
     ]
    }
   ],
   "source": [
    "# Train the model\n",
    "epochs = 100\n",
    "history = model.fit(\n",
    "    train_generator,\n",
    "    epochs=epochs,\n",
    "    validation_data=validation_generator,\n",
    "    callbacks=[reduce_lr, early_stop]\n",
    ")"
   ]
  },
  {
   "cell_type": "code",
   "execution_count": 10,
   "id": "acc466cc",
   "metadata": {
    "execution": {
     "iopub.execute_input": "2025-01-21T02:49:18.907009Z",
     "iopub.status.busy": "2025-01-21T02:49:18.906684Z",
     "iopub.status.idle": "2025-01-21T02:49:19.367432Z",
     "shell.execute_reply": "2025-01-21T02:49:19.366561Z"
    },
    "papermill": {
     "duration": 2.278315,
     "end_time": "2025-01-21T02:49:19.369105",
     "exception": false,
     "start_time": "2025-01-21T02:49:17.090790",
     "status": "completed"
    },
    "tags": []
   },
   "outputs": [
    {
     "data": {
      "image/png": "[encoded data removed]",
      "text/plain": [
       "<Figure size 1200x400 with 2 Axes>"
      ]
     },
     "metadata": {},
     "output_type": "display_data"
    }
   ],
   "source": [
    "# Plot performance\n",
    "def plot_metrics(history):\n",
    "    epochs_range = range(len(history.history['accuracy']))\n",
    "\n",
    "    plt.figure(figsize=(12, 4))\n",
    "    \n",
    "    plt.subplot(1, 2, 1)\n",
    "    plt.plot(epochs_range, history.history['accuracy'], 'r', label='Training Accuracy')\n",
    "    plt.plot(epochs_range, history.history['val_accuracy'], 'b', label='Validation Accuracy')\n",
    "    plt.title('Training and Validation Accuracy')\n",
    "    plt.legend()\n",
    "\n",
    "    plt.subplot(1, 2, 2)\n",
    "    plt.plot(epochs_range, history.history['loss'], 'r', label='Training Loss')\n",
    "    plt.plot(epochs_range, history.history['val_loss'], 'b', label='Validation Loss')\n",
    "    plt.title('Training and Validation Loss')\n",
    "    plt.legend()\n",
    "\n",
    "    plt.show()\n",
    "\n",
    "plot_metrics(history)"
   ]
  },
  {
   "cell_type": "code",
   "execution_count": 11,
   "id": "284170fc",
   "metadata": {
    "execution": {
     "iopub.execute_input": "2025-01-21T02:49:22.908073Z",
     "iopub.status.busy": "2025-01-21T02:49:22.907753Z",
     "iopub.status.idle": "2025-01-21T02:50:58.830936Z",
     "shell.execute_reply": "2025-01-21T02:50:58.829995Z"
    },
    "papermill": {
     "duration": 99.495075,
     "end_time": "2025-01-21T02:51:00.633436",
     "exception": false,
     "start_time": "2025-01-21T02:49:21.138361",
     "status": "completed"
    },
    "tags": []
   },
   "outputs": [
    {
     "name": "stdout",
     "output_type": "stream",
     "text": [
      "\u001b[1m359/359\u001b[0m \u001b[32m━━━━━━━━━━━━━━━━━━━━\u001b[0m\u001b[37m\u001b[0m \u001b[1m44s\u001b[0m 124ms/step - accuracy: 0.7777 - loss: 0.8713\n",
      "\u001b[1m113/113\u001b[0m \u001b[32m━━━━━━━━━━━━━━━━━━━━\u001b[0m\u001b[37m\u001b[0m \u001b[1m50s\u001b[0m 448ms/step - accuracy: 0.6718 - loss: 1.2191\n",
      "Final Train Accuracy: 77.52% | Validation Accuracy: 67.11%\n"
     ]
    }
   ],
   "source": [
    "# Evaluate model\n",
    "train_loss, train_acc = model.evaluate(train_generator)\n",
    "test_loss, test_acc = model.evaluate(test_generator)\n",
    "print(f\"Final Train Accuracy: {train_acc * 100:.2f}% | Validation Accuracy: {test_acc * 100:.2f}%\")"
   ]
  },
  {
   "cell_type": "code",
   "execution_count": 12,
   "id": "717edbfe",
   "metadata": {
    "execution": {
     "iopub.execute_input": "2025-01-21T02:51:04.198218Z",
     "iopub.status.busy": "2025-01-21T02:51:04.197891Z",
     "iopub.status.idle": "2025-01-21T02:51:04.203207Z",
     "shell.execute_reply": "2025-01-21T02:51:04.202338Z"
    },
    "papermill": {
     "duration": 1.793146,
     "end_time": "2025-01-21T02:51:04.204450",
     "exception": false,
     "start_time": "2025-01-21T02:51:02.411304",
     "status": "completed"
    },
    "tags": []
   },
   "outputs": [],
   "source": [
    "# Single image prediction function\n",
    "def predict_emotion(image_path):\n",
    "    img = image.load_img(image_path, target_size=(48, 48), color_mode=\"grayscale\")\n",
    "    img = np.array(img) / 255.0\n",
    "    img = np.expand_dims(img, axis=0)\n",
    "    img = img.reshape(1, 48, 48, 1)\n",
    "\n",
    "    prediction = model.predict(img)[0]\n",
    "    class_index = np.argmax(prediction)\n",
    "\n",
    "    label_dict = {0:'Angry', 1:'Disgust', 2:'Fear', 3:'Happy', 4:'Neutral', 5:'Sad', 6:'Surprise'}\n",
    "    print(f\"Predicted Emotion: {label_dict[class_index]}\")\n",
    "\n",
    "    plt.imshow(img[0, :, :, 0], cmap='gray')\n",
    "    plt.title(f\"Emotion: {label_dict[class_index]}\")\n",
    "    plt.axis('off')\n",
    "    plt.show()"
   ]
  },
  {
   "cell_type": "code",
   "execution_count": 13,
   "id": "d50c7d9d",
   "metadata": {
    "execution": {
     "iopub.execute_input": "2025-01-21T02:51:07.842216Z",
     "iopub.status.busy": "2025-01-21T02:51:07.841663Z",
     "iopub.status.idle": "2025-01-21T02:51:09.134305Z",
     "shell.execute_reply": "2025-01-21T02:51:09.133372Z"
    },
    "papermill": {
     "duration": 3.071809,
     "end_time": "2025-01-21T02:51:09.135819",
     "exception": false,
     "start_time": "2025-01-21T02:51:06.064010",
     "status": "completed"
    },
    "tags": []
   },
   "outputs": [
    {
     "name": "stdout",
     "output_type": "stream",
     "text": [
      "\u001b[1m1/1\u001b[0m \u001b[32m━━━━━━━━━━━━━━━━━━━━\u001b[0m\u001b[37m\u001b[0m \u001b[1m1s\u001b[0m 1s/step\n",
      "Predicted Emotion: Fear\n"
     ]
    },
    {
     "data": {
      "image/png": "[encoded data removed]",
      "text/plain": [
       "<Figure size 640x480 with 1 Axes>"
      ]
     },
     "metadata": {},
     "output_type": "display_data"
    }
   ],
   "source": [
    "# Test prediction\n",
    "predict_emotion(\"/kaggle/input/fer2013/test/fear/PrivateTest_11014592.jpg\")"
   ]
  },
  {
   "cell_type": "code",
   "execution_count": 14,
   "id": "8170359c",
   "metadata": {
    "execution": {
     "iopub.execute_input": "2025-01-21T02:51:12.677937Z",
     "iopub.status.busy": "2025-01-21T02:51:12.677368Z",
     "iopub.status.idle": "2025-01-21T02:51:12.888084Z",
     "shell.execute_reply": "2025-01-21T02:51:12.887345Z"
    },
    "papermill": {
     "duration": 1.982933,
     "end_time": "2025-01-21T02:51:12.889678",
     "exception": false,
     "start_time": "2025-01-21T02:51:10.906745",
     "status": "completed"
    },
    "tags": []
   },
   "outputs": [],
   "source": [
    "# Save model\n",
    "model.save('model_fer2013_optimized.h5')\n"
   ]
  }
 ],
 "metadata": {
  "kaggle": {
   "accelerator": "nvidiaTeslaT4",
   "dataSources": [
    {
     "datasetId": 786787,
     "sourceId": 1351797,
     "sourceType": "datasetVersion"
    }
   ],
   "dockerImageVersionId": 30839,
   "isGpuEnabled": true,
   "isInternetEnabled": true,
   "language": "python",
   "sourceType": "notebook"
  },
  "kernelspec": {
   "display_name": "Python 3",
   "language": "python",
   "name": "python3"
  },
  "language_info": {
   "codemirror_mode": {
    "name": "ipython",
    "version": 3
   },
   "file_extension": ".py",
   "mimetype": "text/x-python",
   "name": "python",
   "nbconvert_exporter": "python",
   "pygments_lexer": "ipython3",
   "version": "3.10.12"
  },
  "papermill": {
   "default_parameters": {},
   "duration": 5672.724294,
   "end_time": "2025-01-21T02:51:17.847275",
   "environment_variables": {},
   "exception": null,
   "input_path": "__notebook__.ipynb",
   "output_path": "__notebook__.ipynb",
   "parameters": {},
   "start_time": "2025-01-21T01:16:45.122981",
   "version": "2.6.0"
  }
 },
 "nbformat": 4,
 "nbformat_minor": 5
}
